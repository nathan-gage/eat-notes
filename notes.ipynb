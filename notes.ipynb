{
 "cells": [
  {
   "cell_type": "markdown",
   "metadata": {},
   "source": [
    "# Chapter 3\n",
    "\n",
    "## 3.1 Counting\n",
    "\n",
    "### Euler Characteristic\n",
    "Euler Characteristic is literally just counting components (!)\n",
    "\n",
    "Example: \n",
    "For space $X$ with 3 nodes; $\\chi(X)=3$\n",
    "Add an edge; $\\chi(X)=2$\n",
    "Add another edge (to make a cycle); $\\chi(X)=2$\n",
    "although we added an edge, we made a face (cycle!) which is +1\n",
    "\n",
    "This pattern repeats as your $k$-cell dimension increases.\n",
    "\n",
    "$$\\chi(X) := \\sum (-1)^{\\text{dim} \\sigma}$$\n",
    "\n",
    "Well defined for bounded (aka doesn't go into infinity) spaces, not homotopy invariant for non-compact cell complexes.\n",
    "\n",
    "Sharp invariant for 2-manifolds. $$\\chi = 2 - 2g$$ where $g$ is the genus. \n"
   ]
  },
  {
   "cell_type": "markdown",
   "metadata": {},
   "source": [
    "## 3.2 Curvature\n",
    "\n",
    "### Gauss Map / Gauss Curvature\n",
    "\n",
    "Take $M$ surface embedded in $\\mathbb{R}^3$, the **Gauss Map** is $$\\gamma : M \\rightarrow \\mathbb{S}^2$$ that associates each point of M the direction of the unit vector normal to $M$ in $\\mathbb{R}^3$. \n",
    "\n",
    "It's literally just taking the normal vectors of each point in $M$. The **Gauss Curvature** becomes $$\\kappa = \\mathrm{det}(D_\\gamma)$$. $D_\\gamma$ is just the derivative of $\\gamma$.\n",
    "\n",
    "\n"
   ]
  },
  {
   "cell_type": "markdown",
   "metadata": {},
   "source": [
    "### Gauss Bonnet Formula\n",
    "\n",
    "The formula is $$\\int_{M} \\kappa \\, dA = 2\\pi\\chi(M).$$ \n",
    "\n",
    "Integrate the curvature over 2-cells times area + geodesic curvature over 1-cells, and sums angles defects which is $2\\pi \\chi (M)$. That makes it become \n",
    "$$\\int_{M} dk = \\int_{M^{(0)}} dk + \\int_{M^{(1)}} dk + \\int_{M^{(2)}} dk = 2\\pi\\chi(M)$$\n",
    "\n",
    "Geodesic curvature is just the curvature of the curve measured in the context of the surface $M$, not in the ambient space $\\mathbb{R}^3$.\n",
    "\n",
    "Angle defect at a vertex is the amount by which the sum of the angles around that verte3x deviates from $2\\pi$ radians. So if it's flat, the sum is $2\\pi$, if there is positive angle defect the sum is $<2\\pi$, and negative (saddle) if the sum is $>2\\pi$ (aka negative defect)."
   ]
  },
  {
   "cell_type": "markdown",
   "metadata": {},
   "source": [
    "\n",
    "![](gauss_bonnet_implications.png)"
   ]
  },
  {
   "cell_type": "markdown",
   "metadata": {},
   "source": [
    "## 3.3 Nonvanishing vector fields\n",
    "\n",
    "Euler characteristic can be an obstruction to the existence of certain fields. Nonvanishing vector field is one that doesn't equal zero at any point on the manifold.\n",
    "\n",
    "### Hairy Ball Theorem\n",
    "Hairy Ball says that a connected compact manifold $M$ without boundary (there is no \"edge\", aka it's homeomorphic to an open set in euclidean space). has a nonvanishing vector field iff $\\chi(M)=0$\n",
    "\n",
    "Basically only matters for dim 2, since $\\chi(\\mathbb{S}^2)=2$. \n",
    "\n",
    "## 3.4 Fixed point index\n",
    "\n",
    "The index is $$J_V(p) = \\frac{1}{2\\pi} \\oint_\\gamma d\\theta_V$$\n",
    "\n",
    "if in $(x,y)$ coordinates based at $p$, the vector field is of the form $V=(v_x,v_y)$, then $d\\theta_V$ is $$d\\theta_V=\\frac{v_x dy - v_y dx}{v_x^2 + v_y^2}$$\n",
    "\n",
    "So it's basically just the signed integer that indicates whether the point is a source, sink, or saddle. It's counting the number of turns around the point. Green's theorem tells you that the index is well defined and independent of $B_p$ (the ball around $p from which you get $\\gamma$; $\\gamma=\\delta B_p$)\n",
    "\n",
    "Also it's additive, so the sum of index of points in a disk is equal to the boundary of the disk's index.\n",
    "\n",
    "### Poincare-Hopf\n",
    "Poincare-Hopf says that the sum of the indices of isolated fixed points on a compact manifold $M$ is equal to $\\chi(M)$. "
   ]
  },
  {
   "cell_type": "markdown",
   "metadata": {},
   "source": [
    "### 3.5 Tame Topology"
   ]
  },
  {
   "cell_type": "markdown",
   "metadata": {},
   "source": [
    "### Tame vs. Wil\n",
    "The text contrasts \"tame\" spaces with \"wild\" ones. An example of a wild space is given by the graph of the function sin(1/x) for 0 < x < 1. This space is problematic because it doesn't behave nicely when trying to extend it to a closed interval. Tame spaces, on the other hand, avoid such complexities and are easier to work with.\n",
    "\n",
    "### o-minimal Structures\n",
    "These are mathematical frameworks that allow for the definition of tame spaces. They are based on a set of axioms that define how sets and functions behave in a tame manner. The axioms ensure that the sets are closed under certain operations like taking Cartesian products, projections, and finite unions.\n",
    "\n",
    "### Definable Sets and Mappings\n",
    "In this context, a set or function is called \"definable\" if it fits within the framework of an o-minimal structure. Definable sets can be understood in terms of tame geometry, and definable functions are those whose graphs are tame.\n",
    "\n",
    "### Triangulation Theorem\n",
    "This theorem states that any definable set can be transformed into a collection of simple geometric shapes called simplices (like triangles in 2D, tetrahedra in 3D, etc.), which are open and disjoint. The boundaries of these simplices relate to each other in a tame way.\n",
    "\n",
    "### Dimension and Euler Characteristic\n",
    "The text mentions that tame sets have a well-defined dimension (how many directions you can move in without leaving the set) and Euler characteristic. The dimension is the maximum dimension of the simplices in a triangulation of the set.\n",
    "\n",
    "### Scissors Equivalence\n",
    "This is the idea that definable homeomorphisms (one-to-one, onto, and continuous functions with continuous inverses) can be thought of like cutting and rearranging paper without changing its basic properties. This concept is useful for understanding how spaces can be manipulated in tame topology.\n",
    "\n"
   ]
  },
  {
   "cell_type": "markdown",
   "metadata": {},
   "source": [
    "## 3.6 Euler Calculus\n",
    "\n",
    "Euler characteristic is additive; $$\\chi(A \\cup B) = \\chi(A) + \\chi(B) - \\chi(A \\cap B)$$\n",
    "\n",
    "Integration theory says you can integrate over a space using the Euler characteristic. Instead of measuring area or volume, you're summing up the Euler characteristics of parts of the space. The integral of the characteristic function over a set $X$ is $$\\int_X 1_A \\, d\\chi = \\chi(A)$$"
   ]
  },
  {
   "cell_type": "markdown",
   "metadata": {},
   "source": [
    "### Euler Integral\n",
    "Measurable functions in this integration theory are integer-valued and constructable. These are functions that can be broken down into simpler parts, and their values are integers. It says that you can integrate functions over a space, which involves summing up the Euler characteristics weighted by the function's values, ie; $$\\int_X h \\, d\\chi = \\sum_{s=-\\infty}^{\\infty} s\\chi({h=s}) = \\sum_{s=0}^{\\infty} \\chi({h > s}) - \\chi({h < -s})$$ where $$h: X \\rightarrow \\mathbb{Z}$$. \n",
    "\n",
    "you can also do this via decomposition into cells. where you break down the space into cells and then sum up the Euler characteristics of these cells, weighted by the coefficients to get the integral over the whole space. This is written as $$\\int_X h \\, d\\chi = \\sum_{\\alpha} c_{\\alpha} \\chi(\\sigma_{\\alpha}) = \\sum_{\\alpha} c_{\\alpha} (-1)^{\\text{dim} \\sigma_{\\alpha}}$$"
   ]
  },
  {
   "cell_type": "markdown",
   "metadata": {},
   "source": [
    "## 3.7 Target enumeration\n",
    "\n",
    "Targets are points scattered in a space, and sensors can detect these points. Each sensor covers a part of the space and coutns how many targets are within its range.\n",
    "\n",
    "The relationship between where the sensors are and what they can detect helps us understand which sensor detects which target.\n",
    "\n",
    "Each sensor gives a number of targets it detects. The counting function is how we represent those numbers; so to aggregate the counts, you need to use topology to make the counts unique (summing the counts results in double counting from sensors reading from the same targets).\n",
    "\n",
    "The equation for that is $$\\# \\alpha = \\frac{1}{N} \\int_X h \\, d\\chi$$ where $h$ is the counting function, and $\\alpha$ is the number of targets."
   ]
  }
 ],
 "metadata": {
  "language_info": {
   "name": "python"
  }
 },
 "nbformat": 4,
 "nbformat_minor": 2
}
